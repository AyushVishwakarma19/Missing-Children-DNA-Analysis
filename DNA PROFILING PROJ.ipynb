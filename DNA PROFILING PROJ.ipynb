{
 "cells": [
  {
   "cell_type": "markdown",
   "id": "c4862e14-0302-44ed-8ebe-03e75e37391d",
   "metadata": {},
   "source": [
    "# 🔬 DNA Profiling Data Analysis: Identifying Missing Children"
   ]
  },
  {
   "cell_type": "markdown",
   "id": "8d7988ee-773a-4dee-9cf8-b588197167ce",
   "metadata": {},
   "source": [
    "## Project Overview\n",
    "DNA profiling is a powerful forensic technique used to identify missing persons by analyzing their genetic markers. This project aims to explore real-world DNA datasets, analyze DNA matching patterns, and derive meaningful insights that can help in the identification of missing children.\n"
   ]
  },
  {
   "cell_type": "markdown",
   "id": "9fd8f78f-11ff-47b7-b38d-54ac9a9c5db7",
   "metadata": {},
   "source": [
    " ## Goals of the Project\n",
    "1. **Understand the DNA dataset** – Learn about STR values and match scores.\n",
    "2. **Analyze parent-child DNA matching patterns** – How many markers typically match?\n",
    "3. **Identify key trends in missing children cases** – Age, gender, and region-wise analysis.\n",
    "4. **Explore statistical insights** – What percentage of missing children get identified?\n",
    "5. **Create meaningful visualizations** – Graphical representations for clarity."
   ]
  },
  {
   "cell_type": "markdown",
   "id": "a41dcb1f-5950-4e20-8d68-21b35dd4e019",
   "metadata": {},
   "source": [
    "## What Questions Will This Project Answer?\n",
    "✔ What does a typical DNA profile look like?  \n",
    "✔ How is DNA matching done between parents and children?  \n",
    "✔ What are the key patterns in successful vs. unsuccessful identifications?  \n",
    "✔ What trends exist in the demographics of missing children?  "
   ]
  },
  {
   "cell_type": "code",
   "execution_count": 4,
   "id": "5ba317c2-7767-43ad-b283-0b2e11bab015",
   "metadata": {},
   "outputs": [],
   "source": [
    "# Importing necessary libraries\n",
    "import numpy as np\n",
    "import pandas as pd\n",
    "import matplotlib.pyplot as plt\n",
    "import seaborn as sns"
   ]
  },
  {
   "cell_type": "code",
   "execution_count": 3,
   "id": "e7afe298-8d41-4358-99c4-33fd5e0de3cf",
   "metadata": {},
   "outputs": [],
   "source": [
    "# Setting visualization style\n",
    "sns.set_style(\"whitegrid\")"
   ]
  },
  {
   "cell_type": "code",
   "execution_count": 5,
   "id": "b0408a1f-c695-4ba5-a0f6-f0efa1644083",
   "metadata": {},
   "outputs": [],
   "source": [
    "# Display all columns of the dataset\n",
    "pd.set_option(\"display.max_columns\", None)"
   ]
  },
  {
   "cell_type": "code",
   "execution_count": 6,
   "id": "0f4b5009-046e-4b3f-ba4a-ac205c16e3c4",
   "metadata": {},
   "outputs": [
    {
     "name": "stdout",
     "output_type": "stream",
     "text": [
      "Libraries imported successfully!\n"
     ]
    }
   ],
   "source": [
    "print(\"Libraries imported successfully!\")"
   ]
  },
  {
   "cell_type": "markdown",
   "id": "c55a1662-1615-4e04-ae50-738296f99600",
   "metadata": {},
   "source": [
    "## Generate and Save the Synthetic Dataset\n",
    "Since real DNA data is sensitive, we are using a synthetic dataset that mimics real-world DNA profiling. \n",
    "The dataset includes:\n",
    "- **ID:** Unique identifier for each individual  \n",
    "- **Gender & Age:** Basic demographic information  \n",
    "- **Region:** Geographic area of residence  \n",
    "- **Parent_ID:** Known parent-child relationships (if available)  \n",
    "- **Match_Score:** Percentage similarity in DNA matching  \n",
    "- **STR Markers (STR_1 to STR_5):** Genetic markers used for identification  "
   ]
  },
  {
   "cell_type": "code",
   "execution_count": 8,
   "id": "1524d4d7-3da4-4fdd-9b10-b4bacbc0d9c6",
   "metadata": {},
   "outputs": [],
   "source": [
    "# Generate and Save the Dataset\n",
    "np.random.seed(42)\n",
    "\n",
    "num_samples = 100\n",
    "ids = [f\"IND{i+1:03d}\" for i in range(num_samples)]\n",
    "str_markers = {f\"STR_{i}\": np.random.randint(5, 20, num_samples) for i in range(1, 6)}\n",
    "gender = np.random.choice([\"Male\", \"Female\"], num_samples)\n",
    "age = np.random.randint(1, 18, num_samples)\n",
    "regions = np.random.choice([\"North\", \"South\", \"East\", \"West\"], num_samples)\n",
    "parent_ids = [np.random.choice(ids) if np.random.rand() > 0.5 else \"Unknown\" for _ in range(num_samples)]\n",
    "match_scores = np.random.uniform(50, 99, num_samples)\n",
    "status = np.random.choice([\"Identified\", \"Unidentified\"], num_samples, p=[0.6, 0.4])\n",
    "\n",
    "df = pd.DataFrame({\n",
    "    \"ID\": ids, \"Gender\": gender, \"Age\": age, \"Region\": regions,\n",
    "    \"Parent_ID\": parent_ids, \"Match_Score\": match_scores, \"Status\": status\n",
    "}).assign(**str_markers)\n",
    "\n",
    "# Save dataset as CSV\n",
    "df.to_csv(\"DNA_Profiling_Data.csv\", index=False)"
   ]
  },
  {
   "cell_type": "markdown",
   "id": "3f95a728-82d3-4e50-8f2b-0ba43ea96f3f",
   "metadata": {},
   "source": [
    "## Load the Dataset\n",
    "Now, we will load our dataset from the CSV file and preview its structure."
   ]
  },
  {
   "cell_type": "code",
   "execution_count": 9,
   "id": "48cbdd75-a997-402f-870a-beb37a83e019",
   "metadata": {},
   "outputs": [
    {
     "data": {
      "text/html": [
       "<div>\n",
       "<style scoped>\n",
       "    .dataframe tbody tr th:only-of-type {\n",
       "        vertical-align: middle;\n",
       "    }\n",
       "\n",
       "    .dataframe tbody tr th {\n",
       "        vertical-align: top;\n",
       "    }\n",
       "\n",
       "    .dataframe thead th {\n",
       "        text-align: right;\n",
       "    }\n",
       "</style>\n",
       "<table border=\"1\" class=\"dataframe\">\n",
       "  <thead>\n",
       "    <tr style=\"text-align: right;\">\n",
       "      <th></th>\n",
       "      <th>ID</th>\n",
       "      <th>Gender</th>\n",
       "      <th>Age</th>\n",
       "      <th>Region</th>\n",
       "      <th>Parent_ID</th>\n",
       "      <th>Match_Score</th>\n",
       "      <th>Status</th>\n",
       "      <th>STR_1</th>\n",
       "      <th>STR_2</th>\n",
       "      <th>STR_3</th>\n",
       "      <th>STR_4</th>\n",
       "      <th>STR_5</th>\n",
       "    </tr>\n",
       "  </thead>\n",
       "  <tbody>\n",
       "    <tr>\n",
       "      <th>0</th>\n",
       "      <td>IND001</td>\n",
       "      <td>Female</td>\n",
       "      <td>8</td>\n",
       "      <td>North</td>\n",
       "      <td>IND045</td>\n",
       "      <td>52.002562</td>\n",
       "      <td>Identified</td>\n",
       "      <td>11</td>\n",
       "      <td>6</td>\n",
       "      <td>9</td>\n",
       "      <td>15</td>\n",
       "      <td>5</td>\n",
       "    </tr>\n",
       "    <tr>\n",
       "      <th>1</th>\n",
       "      <td>IND002</td>\n",
       "      <td>Male</td>\n",
       "      <td>13</td>\n",
       "      <td>East</td>\n",
       "      <td>IND061</td>\n",
       "      <td>58.277818</td>\n",
       "      <td>Identified</td>\n",
       "      <td>8</td>\n",
       "      <td>14</td>\n",
       "      <td>11</td>\n",
       "      <td>5</td>\n",
       "      <td>18</td>\n",
       "    </tr>\n",
       "    <tr>\n",
       "      <th>2</th>\n",
       "      <td>IND003</td>\n",
       "      <td>Female</td>\n",
       "      <td>1</td>\n",
       "      <td>West</td>\n",
       "      <td>Unknown</td>\n",
       "      <td>63.650927</td>\n",
       "      <td>Identified</td>\n",
       "      <td>17</td>\n",
       "      <td>18</td>\n",
       "      <td>11</td>\n",
       "      <td>19</td>\n",
       "      <td>9</td>\n",
       "    </tr>\n",
       "    <tr>\n",
       "      <th>3</th>\n",
       "      <td>IND004</td>\n",
       "      <td>Male</td>\n",
       "      <td>16</td>\n",
       "      <td>North</td>\n",
       "      <td>Unknown</td>\n",
       "      <td>58.673514</td>\n",
       "      <td>Identified</td>\n",
       "      <td>19</td>\n",
       "      <td>8</td>\n",
       "      <td>17</td>\n",
       "      <td>10</td>\n",
       "      <td>8</td>\n",
       "    </tr>\n",
       "    <tr>\n",
       "      <th>4</th>\n",
       "      <td>IND005</td>\n",
       "      <td>Female</td>\n",
       "      <td>7</td>\n",
       "      <td>East</td>\n",
       "      <td>IND036</td>\n",
       "      <td>54.346424</td>\n",
       "      <td>Identified</td>\n",
       "      <td>15</td>\n",
       "      <td>18</td>\n",
       "      <td>19</td>\n",
       "      <td>12</td>\n",
       "      <td>12</td>\n",
       "    </tr>\n",
       "  </tbody>\n",
       "</table>\n",
       "</div>"
      ],
      "text/plain": [
       "       ID  Gender  Age Region Parent_ID  Match_Score      Status  STR_1  \\\n",
       "0  IND001  Female    8  North    IND045    52.002562  Identified     11   \n",
       "1  IND002    Male   13   East    IND061    58.277818  Identified      8   \n",
       "2  IND003  Female    1   West   Unknown    63.650927  Identified     17   \n",
       "3  IND004    Male   16  North   Unknown    58.673514  Identified     19   \n",
       "4  IND005  Female    7   East    IND036    54.346424  Identified     15   \n",
       "\n",
       "   STR_2  STR_3  STR_4  STR_5  \n",
       "0      6      9     15      5  \n",
       "1     14     11      5     18  \n",
       "2     18     11     19      9  \n",
       "3      8     17     10      8  \n",
       "4     18     19     12     12  "
      ]
     },
     "execution_count": 9,
     "metadata": {},
     "output_type": "execute_result"
    }
   ],
   "source": [
    "# Load the dataset\n",
    "df = pd.read_csv(\"DNA_Profiling_Data.csv\")\n",
    "\n",
    "# Display first five rows\n",
    "df.head()"
   ]
  },
  {
   "cell_type": "markdown",
   "id": "8f24951a-e5a7-4a7f-9c43-085f69b2257c",
   "metadata": {},
   "source": [
    "## Understanding & Cleaning the Data \n",
    "Before we begin the analysis, we need to explore and clean the dataset.  \n",
    "This step ensures that our data is accurate, complete, and ready for processing.  \n",
    "We will:  \n",
    "- Check for missing values  \n",
    "- Check for duplicate records  \n",
    "- Get an overview of data types and summary statistics  "
   ]
  },
  {
   "cell_type": "code",
   "execution_count": 11,
   "id": "a376e4a0-111c-4404-bea0-0c645ac56843",
   "metadata": {},
   "outputs": [
    {
     "data": {
      "text/plain": [
       "Series([], dtype: int64)"
      ]
     },
     "execution_count": 11,
     "metadata": {},
     "output_type": "execute_result"
    }
   ],
   "source": [
    "# Check for missing values\n",
    "missing_values = df.isnull().sum()\n",
    "\n",
    "# Display columns with missing values only\n",
    "missing_values[missing_values > 0]"
   ]
  },
  {
   "cell_type": "code",
   "execution_count": 12,
   "id": "26473c41-bdb0-4d88-ba21-675e01bce127",
   "metadata": {},
   "outputs": [
    {
     "name": "stdout",
     "output_type": "stream",
     "text": [
      "Number of duplicate rows: 0\n"
     ]
    }
   ],
   "source": [
    "# Check for duplicate rows\n",
    "duplicate_rows = df.duplicated().sum()\n",
    "\n",
    "# Display the number of duplicates\n",
    "print(f\"Number of duplicate rows: {duplicate_rows}\")"
   ]
  },
  {
   "cell_type": "code",
   "execution_count": 13,
   "id": "7f02329e-eeb2-4ea0-b58b-25e69232a0cc",
   "metadata": {},
   "outputs": [
    {
     "data": {
      "text/html": [
       "<div>\n",
       "<style scoped>\n",
       "    .dataframe tbody tr th:only-of-type {\n",
       "        vertical-align: middle;\n",
       "    }\n",
       "\n",
       "    .dataframe tbody tr th {\n",
       "        vertical-align: top;\n",
       "    }\n",
       "\n",
       "    .dataframe thead th {\n",
       "        text-align: right;\n",
       "    }\n",
       "</style>\n",
       "<table border=\"1\" class=\"dataframe\">\n",
       "  <thead>\n",
       "    <tr style=\"text-align: right;\">\n",
       "      <th></th>\n",
       "      <th>Age</th>\n",
       "      <th>Match_Score</th>\n",
       "      <th>STR_1</th>\n",
       "      <th>STR_2</th>\n",
       "      <th>STR_3</th>\n",
       "      <th>STR_4</th>\n",
       "      <th>STR_5</th>\n",
       "    </tr>\n",
       "  </thead>\n",
       "  <tbody>\n",
       "    <tr>\n",
       "      <th>count</th>\n",
       "      <td>100.000000</td>\n",
       "      <td>100.000000</td>\n",
       "      <td>100.000000</td>\n",
       "      <td>100.000000</td>\n",
       "      <td>100.000000</td>\n",
       "      <td>100.000000</td>\n",
       "      <td>100.000</td>\n",
       "    </tr>\n",
       "    <tr>\n",
       "      <th>mean</th>\n",
       "      <td>8.980000</td>\n",
       "      <td>70.932003</td>\n",
       "      <td>12.270000</td>\n",
       "      <td>12.630000</td>\n",
       "      <td>11.780000</td>\n",
       "      <td>10.980000</td>\n",
       "      <td>11.570</td>\n",
       "    </tr>\n",
       "    <tr>\n",
       "      <th>std</th>\n",
       "      <td>5.268508</td>\n",
       "      <td>13.236411</td>\n",
       "      <td>4.251809</td>\n",
       "      <td>4.403064</td>\n",
       "      <td>4.298414</td>\n",
       "      <td>4.201924</td>\n",
       "      <td>4.571</td>\n",
       "    </tr>\n",
       "    <tr>\n",
       "      <th>min</th>\n",
       "      <td>1.000000</td>\n",
       "      <td>50.983489</td>\n",
       "      <td>5.000000</td>\n",
       "      <td>5.000000</td>\n",
       "      <td>5.000000</td>\n",
       "      <td>5.000000</td>\n",
       "      <td>5.000</td>\n",
       "    </tr>\n",
       "    <tr>\n",
       "      <th>25%</th>\n",
       "      <td>4.000000</td>\n",
       "      <td>59.159304</td>\n",
       "      <td>8.750000</td>\n",
       "      <td>9.000000</td>\n",
       "      <td>8.000000</td>\n",
       "      <td>7.000000</td>\n",
       "      <td>7.000</td>\n",
       "    </tr>\n",
       "    <tr>\n",
       "      <th>50%</th>\n",
       "      <td>9.000000</td>\n",
       "      <td>68.320029</td>\n",
       "      <td>12.000000</td>\n",
       "      <td>13.000000</td>\n",
       "      <td>12.000000</td>\n",
       "      <td>11.000000</td>\n",
       "      <td>11.000</td>\n",
       "    </tr>\n",
       "    <tr>\n",
       "      <th>75%</th>\n",
       "      <td>13.000000</td>\n",
       "      <td>80.013908</td>\n",
       "      <td>16.000000</td>\n",
       "      <td>16.000000</td>\n",
       "      <td>16.000000</td>\n",
       "      <td>14.250000</td>\n",
       "      <td>16.000</td>\n",
       "    </tr>\n",
       "    <tr>\n",
       "      <th>max</th>\n",
       "      <td>17.000000</td>\n",
       "      <td>98.339247</td>\n",
       "      <td>19.000000</td>\n",
       "      <td>19.000000</td>\n",
       "      <td>19.000000</td>\n",
       "      <td>19.000000</td>\n",
       "      <td>19.000</td>\n",
       "    </tr>\n",
       "  </tbody>\n",
       "</table>\n",
       "</div>"
      ],
      "text/plain": [
       "              Age  Match_Score       STR_1       STR_2       STR_3  \\\n",
       "count  100.000000   100.000000  100.000000  100.000000  100.000000   \n",
       "mean     8.980000    70.932003   12.270000   12.630000   11.780000   \n",
       "std      5.268508    13.236411    4.251809    4.403064    4.298414   \n",
       "min      1.000000    50.983489    5.000000    5.000000    5.000000   \n",
       "25%      4.000000    59.159304    8.750000    9.000000    8.000000   \n",
       "50%      9.000000    68.320029   12.000000   13.000000   12.000000   \n",
       "75%     13.000000    80.013908   16.000000   16.000000   16.000000   \n",
       "max     17.000000    98.339247   19.000000   19.000000   19.000000   \n",
       "\n",
       "            STR_4    STR_5  \n",
       "count  100.000000  100.000  \n",
       "mean    10.980000   11.570  \n",
       "std      4.201924    4.571  \n",
       "min      5.000000    5.000  \n",
       "25%      7.000000    7.000  \n",
       "50%     11.000000   11.000  \n",
       "75%     14.250000   16.000  \n",
       "max     19.000000   19.000  "
      ]
     },
     "execution_count": 13,
     "metadata": {},
     "output_type": "execute_result"
    }
   ],
   "source": [
    "# Get summary statistics for numeric columns\n",
    "df.describe()"
   ]
  },
  {
   "cell_type": "code",
   "execution_count": 14,
   "id": "5a2277af-8970-4bea-b2ca-7324517faf5e",
   "metadata": {},
   "outputs": [
    {
     "data": {
      "text/plain": [
       "ID              object\n",
       "Gender          object\n",
       "Age              int64\n",
       "Region          object\n",
       "Parent_ID       object\n",
       "Match_Score    float64\n",
       "Status          object\n",
       "STR_1            int64\n",
       "STR_2            int64\n",
       "STR_3            int64\n",
       "STR_4            int64\n",
       "STR_5            int64\n",
       "dtype: object"
      ]
     },
     "execution_count": 14,
     "metadata": {},
     "output_type": "execute_result"
    }
   ],
   "source": [
    "# Check data types of each column\n",
    "df.dtypes"
   ]
  },
  {
   "cell_type": "markdown",
   "id": "e58d546a-9ba5-46b1-813e-b88d0387832f",
   "metadata": {},
   "source": [
    "## Exploratory Data Analysis (EDA) \n",
    "Exploratory Data Analysis helps us understand the dataset by visualizing key patterns and trends.  \n",
    "We will analyze:  \n",
    "- Gender distribution  \n",
    "- Age distribution  \n",
    "- Status (Identified vs. Unidentified) distribution  \n",
    "- Region-wise missing children count  \n",
    "- DNA match score distribution  "
   ]
  },
  {
   "cell_type": "markdown",
   "id": "ea8cc0ee-e29b-4cef-bdc7-d50b4ff3083f",
   "metadata": {},
   "source": [
    "## Gender Distribution Analysis  \n",
    "To understand the demographic composition of our dataset, we analyze the distribution of gender. A clear visualization helps identify any imbalances, which could be important for further analysis. The bar chart below represents the count of male and female individuals in the dataset.  "
   ]
  },
  {
   "cell_type": "code",
   "execution_count": 17,
   "id": "8cb41978-988e-4fa5-8b10-bc0610783b71",
   "metadata": {},
   "outputs": [
    {
     "name": "stderr",
     "output_type": "stream",
     "text": [
      "C:\\Users\\Owner\\AppData\\Local\\Temp\\ipykernel_3796\\1764728578.py:6: FutureWarning: \n",
      "\n",
      "Passing `palette` without assigning `hue` is deprecated and will be removed in v0.14.0. Assign the `x` variable to `hue` and set `legend=False` for the same effect.\n",
      "\n",
      "  sns.countplot(x=df[\"Gender\"], hue=None, palette=\"Set2\", legend=False)\n"
     ]
    },
    {
     "data": {
      "image/png": "[encoded data removed]",
      "text/plain": [
       "<Figure size 600x400 with 1 Axes>"
      ]
     },
     "metadata": {},
     "output_type": "display_data"
    }
   ],
   "source": [
    "import matplotlib.pyplot as plt\n",
    "import seaborn as sns\n",
    "\n",
    "# Countplot for gender distribution\n",
    "plt.figure(figsize=(6,4))\n",
    "sns.countplot(x=df[\"Gender\"], hue=None, palette=\"Set2\", legend=False)\n",
    "plt.title(\"Gender Distribution\")\n",
    "plt.xlabel(\"Gender\")\n",
    "plt.ylabel(\"Count\")\n",
    "plt.show()"
   ]
  },
  {
   "cell_type": "markdown",
   "id": "0a646b91-66a8-49d5-9b2e-73d6488f8e31",
   "metadata": {},
   "source": [
    "### Insights  \n",
    "The bar chart reveals that the dataset contains a slightly higher number of **female** individuals compared to **male** individuals. Specifically:  \n",
    "- **Female count:** Approximately **60**  \n",
    "- **Male count:** Approximately **45**  \n",
    "\n",
    "This distribution suggests a minor gender imbalance, but it remains relatively balanced for further analysis. If gender is a key factor in our study, we may need to consider this distribution while interpreting results.  "
   ]
  },
  {
   "cell_type": "markdown",
   "id": "bc54033d-9dcd-4e7a-a5c2-dc82ff7ca7e7",
   "metadata": {},
   "source": [
    "## Age Distribution of Missing Children\n",
    "This section analyzes the **age distribution of missing children** to identify which age groups are most vulnerable. Understanding these patterns can help in prioritizing search efforts and preventive measures."
   ]
  },
  {
   "cell_type": "code",
   "execution_count": 22,
   "id": "21f832eb-e850-47f5-b70e-77a85cb03ac8",
   "metadata": {},
   "outputs": [
    {
     "data": {
      "image/png": "[encoded data removed]",
      "text/plain": [
       "<Figure size 800x500 with 1 Axes>"
      ]
     },
     "metadata": {},
     "output_type": "display_data"
    }
   ],
   "source": [
    "# Histogram for Age Distribution\n",
    "plt.figure(figsize=(8,5))\n",
    "sns.histplot(df[\"Age\"], bins=10, kde=True, color=\"skyblue\")\n",
    "plt.title(\"Age Distribution of Missing Children\")\n",
    "plt.xlabel(\"Age\")\n",
    "plt.ylabel(\"Count\")\n",
    "plt.show()"
   ]
  },
  {
   "cell_type": "markdown",
   "id": "83bc95db-7274-4df7-913a-d21fca458577",
   "metadata": {},
   "source": [
    "### Insights  \n",
    "\n",
    "- **High Vulnerability at Young and Teenage Ages:**  \n",
    "  - The highest number of missing children is seen in the **4-5 years** and **16-year-old** age groups, with peaks around **17-18 cases**.  \n",
    "  - This suggests that **preschool-aged children** and **older teenagers** are more susceptible to getting lost or abducted.  \n",
    "\n",
    "- **Fluctuating Trend Across Age Groups:**  \n",
    "  - There is a noticeable **dip in missing cases around ages 6-8**, possibly due to better supervision.  \n",
    "  - The numbers **rise again around ages 10-12**, likely due to increasing independence.\n",
    "\n",
    "- **Trend Representation:**  \n",
    "  - The KDE (Kernel Density Estimation) curve provides a **smooth trend** overlaid on the histogram, highlighting two peaks at **2-5 years** and **14-16 years**."
   ]
  },
  {
   "cell_type": "markdown",
   "id": "fed20c25-82d6-457e-8ed2-35b9ae8dd516",
   "metadata": {},
   "source": [
    "## Identified vs Unidentified Children\n",
    "This section examines the proportion of **identified vs. unidentified missing children**. Understanding these statistics is crucial for evaluating the effectiveness of identification efforts and determining the number of unresolved cases."
   ]
  },
  {
   "cell_type": "code",
   "execution_count": 19,
   "id": "23e76668-3603-4b8c-a2e1-faf585594c1f",
   "metadata": {},
   "outputs": [
    {
     "name": "stderr",
     "output_type": "stream",
     "text": [
      "C:\\Users\\Owner\\AppData\\Local\\Temp\\ipykernel_3796\\2906037321.py:3: FutureWarning: \n",
      "\n",
      "Passing `palette` without assigning `hue` is deprecated and will be removed in v0.14.0. Assign the `x` variable to `hue` and set `legend=False` for the same effect.\n",
      "\n",
      "  sns.countplot(x=df[\"Status\"], palette=\"coolwarm\")\n"
     ]
    },
    {
     "data": {
      "image/png": "[encoded data removed]",
      "text/plain": [
       "<Figure size 600x400 with 1 Axes>"
      ]
     },
     "metadata": {},
     "output_type": "display_data"
    }
   ],
   "source": [
    "# Countplot for Identification Status\n",
    "plt.figure(figsize=(6,4))\n",
    "sns.countplot(x=df[\"Status\"], palette=\"coolwarm\")\n",
    "plt.title(\"Identified vs Unidentified Children\")\n",
    "plt.xlabel(\"Status\")\n",
    "plt.ylabel(\"Count\")\n",
    "plt.show()"
   ]
  },
  {
   "cell_type": "markdown",
   "id": "bcaeb1b5-d9b4-4a0e-add6-eb32a4744f7e",
   "metadata": {},
   "source": [
    "### Insights  \n",
    "\n",
    "- **Higher Number of Identified Cases:**  \n",
    "  - The chart shows that more missing children have been **identified** compared to **unidentified cases**.  \n",
    "  - However, a **significant number** of children are still unidentified, which calls for better data collection and identification methods.\n",
    "\n",
    "- **Need for Improved Identification Efforts:**  \n",
    "  - The **gap between identified and unidentified cases** suggests that identification techniques (such as DNA profiling, facial recognition, and public awareness) play a crucial role in solving missing cases.\n",
    "  - Future initiatives can focus on enhancing **tracking systems** to lower the number of unidentified cases.\n",
    "\n",
    "- **Visual Representation:**  \n",
    "  - The **color contrast** in the count plot clearly differentiates between the two groups.\n",
    "  - This insight helps authorities and researchers focus on **improving record-keeping** and **forensic identification techniques** to **reduce unidentified cases**."
   ]
  },
  {
   "cell_type": "markdown",
   "id": "91497548-10dc-4d01-aeef-db0fa3f27ad0",
   "metadata": {},
   "source": [
    "## Missing Children Distribution by Region\n",
    "This section explores the **geographical distribution** of missing children across different regions. Analyzing this data helps in identifying **regional patterns** and understanding which areas require **more intervention and resources**."
   ]
  },
  {
   "cell_type": "code",
   "execution_count": 25,
   "id": "6a12676e-6093-4174-8640-bf47f5ae5e81",
   "metadata": {},
   "outputs": [
    {
     "name": "stderr",
     "output_type": "stream",
     "text": [
      "C:\\Users\\Owner\\AppData\\Local\\Temp\\ipykernel_3796\\2950573271.py:3: FutureWarning: \n",
      "\n",
      "Passing `palette` without assigning `hue` is deprecated and will be removed in v0.14.0. Assign the `x` variable to `hue` and set `legend=False` for the same effect.\n",
      "\n",
      "  sns.countplot(x=df[\"Region\"], palette=\"pastel\")\n"
     ]
    },
    {
     "data": {
      "image/png": "[encoded data removed]",
      "text/plain": [
       "<Figure size 800x500 with 1 Axes>"
      ]
     },
     "metadata": {},
     "output_type": "display_data"
    }
   ],
   "source": [
    "# Countplot for Region Distribution\n",
    "plt.figure(figsize=(8,5))\n",
    "sns.countplot(x=df[\"Region\"], palette=\"pastel\")\n",
    "plt.title(\"Missing Children Distribution by Region\")\n",
    "plt.xlabel(\"Region\")\n",
    "plt.ylabel(\"Count\")\n",
    "plt.show()"
   ]
  },
  {
   "cell_type": "markdown",
   "id": "e238c08e-ba95-4100-b180-f06486438585",
   "metadata": {},
   "source": [
    "### Insights  \n",
    "\n",
    "- **Highest Number of Missing Cases in the North:**  \n",
    "  - The **North region** has the highest number of missing children cases, indicating a potential need for **enhanced security measures, awareness programs, and investigation resources** in that area.\n",
    "\n",
    "- **Relatively Lower Cases in the West:**  \n",
    "  - The **West region** has the lowest count, suggesting that this area might have **better tracking systems or lower incidents of child disappearances**.\n",
    "\n",
    "- **Similar Missing Cases in the South and East:**  \n",
    "  - Both **South and East regions** show comparable numbers of missing children, highlighting the need for **equal resource distribution** in these areas to improve case resolutions.\n",
    "\n",
    "- **Policy & Action Implications:**  \n",
    "  - This insight can **help authorities prioritize efforts** in regions with higher cases by implementing **better tracking systems, increasing awareness, and strengthening law enforcement measures**."
   ]
  },
  {
   "cell_type": "markdown",
   "id": "9cd6205f-b4bd-4df7-bc2a-da19471d1319",
   "metadata": {},
   "source": [
    "## DNA Match Score Distribution\n",
    "This histogram visualizes the **distribution of DNA match scores** in missing children cases. The match score (in percentage) represents how closely a given DNA sample matches known profiles, helping investigators **prioritize potential matches**."
   ]
  },
  {
   "cell_type": "code",
   "execution_count": 21,
   "id": "466a8328-c199-48ef-b0ce-4d2d96755618",
   "metadata": {},
   "outputs": [
    {
     "data": {
      "image/png": "[encoded data removed]",
      "text/plain": [
       "<Figure size 800x500 with 1 Axes>"
      ]
     },
     "metadata": {},
     "output_type": "display_data"
    }
   ],
   "source": [
    "# Histogram for Match Score\n",
    "plt.figure(figsize=(8,5))\n",
    "sns.histplot(df[\"Match_Score\"], bins=10, kde=True, color=\"purple\")\n",
    "plt.title(\"DNA Match Score Distribution\")\n",
    "plt.xlabel(\"Match Score (%)\")\n",
    "plt.ylabel(\"Count\")\n",
    "plt.show()"
   ]
  },
  {
   "cell_type": "markdown",
   "id": "bad2900f-2d18-4ea4-b81b-17022ab2b2e4",
   "metadata": {},
   "source": [
    "### Insights  \n",
    "\n",
    "- **Most DNA Match Scores Fall Between 50% and 80%:**  \n",
    "  - A **majority of the DNA match scores** are within the 50%-80% range, indicating that many samples have **moderate to high similarity** with known profiles.\n",
    "  \n",
    "- **Fewer Cases with High Confidence Matches (90%+):**  \n",
    "  - There are **relatively fewer cases** with match scores **above 90%**, suggesting that **perfect or near-perfect matches** are rare.\n",
    "\n",
    "- **Distribution Pattern:**  \n",
    "  - The **density curve** (KDE) suggests a **right-skewed distribution**, meaning that **lower and moderate match scores are more common than near-perfect matches**.\n",
    "\n",
    "- **Actionable Insights for Investigation:**  \n",
    "  - Investigators can **prioritize cases with higher match scores** for quicker resolution.\n",
    "  - Cases with lower match scores might require **further verification or additional DNA markers**."
   ]
  },
  {
   "cell_type": "code",
   "execution_count": 2,
   "id": "7ec9fca3-f449-4437-b68c-b1d8702b00cf",
   "metadata": {},
   "outputs": [],
   "source": [
    "import numpy as np\n",
    "import pandas as pd\n",
    "import matplotlib.pyplot as plt\n",
    "import seaborn as sns"
   ]
  },
  {
   "cell_type": "code",
   "execution_count": 4,
   "id": "049661bc-a7e8-4e25-892e-b3ede5580ca7",
   "metadata": {},
   "outputs": [
    {
     "data": {
      "text/html": [
       "<div>\n",
       "<style scoped>\n",
       "    .dataframe tbody tr th:only-of-type {\n",
       "        vertical-align: middle;\n",
       "    }\n",
       "\n",
       "    .dataframe tbody tr th {\n",
       "        vertical-align: top;\n",
       "    }\n",
       "\n",
       "    .dataframe thead th {\n",
       "        text-align: right;\n",
       "    }\n",
       "</style>\n",
       "<table border=\"1\" class=\"dataframe\">\n",
       "  <thead>\n",
       "    <tr style=\"text-align: right;\">\n",
       "      <th></th>\n",
       "      <th>ID</th>\n",
       "      <th>Gender</th>\n",
       "      <th>Age</th>\n",
       "      <th>Region</th>\n",
       "      <th>Parent_ID</th>\n",
       "      <th>Match_Score</th>\n",
       "      <th>Status</th>\n",
       "      <th>STR_1</th>\n",
       "      <th>STR_2</th>\n",
       "      <th>STR_3</th>\n",
       "      <th>STR_4</th>\n",
       "      <th>STR_5</th>\n",
       "    </tr>\n",
       "  </thead>\n",
       "  <tbody>\n",
       "    <tr>\n",
       "      <th>0</th>\n",
       "      <td>IND001</td>\n",
       "      <td>Female</td>\n",
       "      <td>8</td>\n",
       "      <td>North</td>\n",
       "      <td>IND045</td>\n",
       "      <td>52.002562</td>\n",
       "      <td>Identified</td>\n",
       "      <td>11</td>\n",
       "      <td>6</td>\n",
       "      <td>9</td>\n",
       "      <td>15</td>\n",
       "      <td>5</td>\n",
       "    </tr>\n",
       "    <tr>\n",
       "      <th>1</th>\n",
       "      <td>IND002</td>\n",
       "      <td>Male</td>\n",
       "      <td>13</td>\n",
       "      <td>East</td>\n",
       "      <td>IND061</td>\n",
       "      <td>58.277818</td>\n",
       "      <td>Identified</td>\n",
       "      <td>8</td>\n",
       "      <td>14</td>\n",
       "      <td>11</td>\n",
       "      <td>5</td>\n",
       "      <td>18</td>\n",
       "    </tr>\n",
       "    <tr>\n",
       "      <th>2</th>\n",
       "      <td>IND003</td>\n",
       "      <td>Female</td>\n",
       "      <td>1</td>\n",
       "      <td>West</td>\n",
       "      <td>Unknown</td>\n",
       "      <td>63.650927</td>\n",
       "      <td>Identified</td>\n",
       "      <td>17</td>\n",
       "      <td>18</td>\n",
       "      <td>11</td>\n",
       "      <td>19</td>\n",
       "      <td>9</td>\n",
       "    </tr>\n",
       "    <tr>\n",
       "      <th>3</th>\n",
       "      <td>IND004</td>\n",
       "      <td>Male</td>\n",
       "      <td>16</td>\n",
       "      <td>North</td>\n",
       "      <td>Unknown</td>\n",
       "      <td>58.673514</td>\n",
       "      <td>Identified</td>\n",
       "      <td>19</td>\n",
       "      <td>8</td>\n",
       "      <td>17</td>\n",
       "      <td>10</td>\n",
       "      <td>8</td>\n",
       "    </tr>\n",
       "    <tr>\n",
       "      <th>4</th>\n",
       "      <td>IND005</td>\n",
       "      <td>Female</td>\n",
       "      <td>7</td>\n",
       "      <td>East</td>\n",
       "      <td>IND036</td>\n",
       "      <td>54.346424</td>\n",
       "      <td>Identified</td>\n",
       "      <td>15</td>\n",
       "      <td>18</td>\n",
       "      <td>19</td>\n",
       "      <td>12</td>\n",
       "      <td>12</td>\n",
       "    </tr>\n",
       "  </tbody>\n",
       "</table>\n",
       "</div>"
      ],
      "text/plain": [
       "       ID  Gender  Age Region Parent_ID  Match_Score      Status  STR_1  \\\n",
       "0  IND001  Female    8  North    IND045    52.002562  Identified     11   \n",
       "1  IND002    Male   13   East    IND061    58.277818  Identified      8   \n",
       "2  IND003  Female    1   West   Unknown    63.650927  Identified     17   \n",
       "3  IND004    Male   16  North   Unknown    58.673514  Identified     19   \n",
       "4  IND005  Female    7   East    IND036    54.346424  Identified     15   \n",
       "\n",
       "   STR_2  STR_3  STR_4  STR_5  \n",
       "0      6      9     15      5  \n",
       "1     14     11      5     18  \n",
       "2     18     11     19      9  \n",
       "3      8     17     10      8  \n",
       "4     18     19     12     12  "
      ]
     },
     "execution_count": 4,
     "metadata": {},
     "output_type": "execute_result"
    }
   ],
   "source": [
    "# Load the dataset (update the filename accordingly)\n",
    "df = pd.read_csv(\"DNA_Profiling_Data.csv\")\n",
    "\n",
    "# Display the first few rows to confirm successful loading\n",
    "df.head()"
   ]
  },
  {
   "cell_type": "markdown",
   "id": "c6b4c46c-4c5b-41cc-a837-4c334f3c12da",
   "metadata": {},
   "source": [
    "## Distribution of Successful vs. Unsuccessful Matches  \n",
    "This analysis examines the success rate of DNA matches for missing children.  \n",
    "The Status column in our dataset contains different categories:  \n",
    "- **Matched** → Cases where a DNA match was found.  \n",
    "- **Unmatched** → Cases with no match.  \n",
    "- **Pending** → Cases still under investigation.  \n",
    "\n",
    "By visualizing these proportions in a pie chart, we can assess how effective the DNA profiling system is in real-world cases. "
   ]
  },
  {
   "cell_type": "code",
   "execution_count": 10,
   "id": "89377325-2414-487c-86ee-6c82a372c08f",
   "metadata": {},
   "outputs": [
    {
     "data": {
      "image/png": "[encoded data removed]",
      "text/plain": [
       "<Figure size 600x600 with 1 Axes>"
      ]
     },
     "metadata": {},
     "output_type": "display_data"
    }
   ],
   "source": [
    "# Count occurrences of each Status category\n",
    "status_counts = df[\"Status\"].value_counts()\n",
    "\n",
    "# Plot Pie Chart\n",
    "plt.figure(figsize=(6, 6))\n",
    "plt.pie(status_counts, labels=status_counts.index, autopct=\"%1.1f%%\", colors=[\"#ff9999\",\"#66b3ff\",\"#99ff99\"])\n",
    "plt.title(\"Distribution of DNA Matching Status\")\n",
    "plt.show()"
   ]
  },
  {
   "cell_type": "markdown",
   "id": "b87456d6-a9a8-4a45-9c73-975d4fae5f23",
   "metadata": {},
   "source": [
    "### Insights  \n",
    "- The pie chart shows the percentage distribution of DNA match statuses.  \n",
    "- A higher percentage of **matched** cases indicates an effective DNA database.  \n",
    "- If **unmatched** cases dominate, it may suggest missing or incomplete genetic records.  \n",
    "- **Pending** cases indicate ongoing investigations, affecting overall resolution rates.  \n",
    "- This analysis helps in improving DNA profiling accuracy and policy decisions.  "
   ]
  },
  {
   "cell_type": "markdown",
   "id": "4e633994-c2cc-4798-a2c6-6e59535f80d5",
   "metadata": {},
   "source": [
    "## Relationship Between Age and Match Probability\n",
    "This analysis explores whether the age of a missing child affects their probability of being matched in the DNA database.  \n",
    "\n",
    "- The Age column represents the child's age.  \n",
    "- The Match_Score column shows the likelihood of a DNA match (0 to 1).  \n",
    "\n",
    "By plotting a scatter plot, we can check if younger or older individuals have a higher match probability.  "
   ]
  },
  {
   "cell_type": "code",
   "execution_count": 11,
   "id": "68374ce0-d509-472e-8c25-43cdf1d7a0a1",
   "metadata": {},
   "outputs": [
    {
     "data": {
      "image/png": "[encoded data removed]",
      "text/plain": [
       "<Figure size 800x500 with 1 Axes>"
      ]
     },
     "metadata": {},
     "output_type": "display_data"
    }
   ],
   "source": [
    "# Scatter plot of Age vs. Match Score\n",
    "plt.figure(figsize=(8, 5))\n",
    "sns.scatterplot(x=df[\"Age\"], y=df[\"Match_Score\"], alpha=0.7, color=\"blue\")\n",
    "\n",
    "# Labels and title\n",
    "plt.xlabel(\"Age of Missing Child\")\n",
    "plt.ylabel(\"DNA Match Score\")\n",
    "plt.title(\"Relationship Between Age and Match Probability\")\n",
    "plt.show()"
   ]
  },
  {
   "cell_type": "markdown",
   "id": "b2518fac-42ce-4560-a733-929f8d54de14",
   "metadata": {},
   "source": [
    "### Insights  \n",
    "- The scatter plot helps us identify whether younger or older missing children have higher DNA match probabilities.  \n",
    "- A visible **positive correlation** would mean younger individuals are more likely to be matched.  \n",
    "- If the points are **evenly spread**, age may not be a key factor in match probability.  \n",
    "- Clusters in specific age groups could suggest **biases** in DNA records.  \n",
    "- This insight helps in prioritizing search efforts and improving DNA database completeness.  "
   ]
  },
  {
   "cell_type": "markdown",
   "id": "95f181f5-de07-494d-9c5e-daccd8b9caed",
   "metadata": {},
   "source": [
    "## Conclusion"
   ]
  },
  {
   "cell_type": "markdown",
   "id": "d40c7115-bee0-4a49-8687-123b639acd8d",
   "metadata": {},
   "source": [
    "### Key Takeaways\n",
    "\n",
    "- This project analyzed DNA profiling data to identify potential matches for missing children.\n",
    "- We performed **data preprocessing** to clean and structure the dataset.\n",
    "- Several **visualizations and analyses** were conducted to gain insights, including:\n",
    "  - **Gender & Age Distribution** of missing children.\n",
    "  - **Potential DNA Matches** with match probabilities.\n",
    "  - **Relationship Between Age and Match Probability** to identify trends.\n",
    "  - **Distribution of Successful vs. Unsuccessful Matches** using pie charts.\n",
    "- The project highlights **real-world applicability**, such as aiding law enforcement agencies in identifying missing persons."
   ]
  },
  {
   "cell_type": "markdown",
   "id": "3303296b-988c-4382-8b08-b2943f9bbc78",
   "metadata": {},
   "source": [
    "## Limitations & Future Work\n",
    "\n",
    "### Limitations:\n",
    "- The dataset is **synthetic**, so real-world biases and challenges might differ.\n",
    "- STR match scoring is simplified; actual forensic DNA analysis uses **more complex statistical models**.\n",
    "- The dataset **lacks timestamps**, which could help in time-based analysis of missing children cases.\n",
    "\n",
    "### Future Enhancements:\n",
    "- Incorporating **machine learning models** to improve match prediction.\n",
    "- Enhancing STR profiling by adding **more genetic markers**.\n",
    "- Integrating **timestamp-based tracking** to analyze trends over time."
   ]
  }
 ],
 "metadata": {
  "kernelspec": {
   "display_name": "Python 3 (ipykernel)",
   "language": "python",
   "name": "python3"
  },
  "language_info": {
   "codemirror_mode": {
    "name": "ipython",
    "version": 3
   },
   "file_extension": ".py",
   "mimetype": "text/x-python",
   "name": "python",
   "nbconvert_exporter": "python",
   "pygments_lexer": "ipython3",
   "version": "3.12.7"
  }
 },
 "nbformat": 4,
 "nbformat_minor": 5
}
